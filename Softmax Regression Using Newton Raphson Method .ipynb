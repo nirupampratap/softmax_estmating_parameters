{
 "cells": [
  {
   "cell_type": "markdown",
   "metadata": {},
   "source": [
    "###  Multinomial Logistic Regression - Soft Max Regression\n",
    "#### Using Newton-Raphson Method : Quasi-Newton Methods\n",
    "#### Notebook Author: Nirupam Purushothama\n",
    "\n",
    "#### Referred Books & Links:\n",
    "1. Machine Learning - A Probabilistic Perspective - Kevin P. Murphy\n",
    "2. Pattern Recognition and Machine Learning - Christopher M. Bishop\n",
    "3. Hands-on Machine Learning with Scikit-Learn & TensorFlow - Aurelien Geron\n",
    "4. [Online - Lecture1](http://www.stat.cmu.edu/~ryantibs/convexopt-S15/lectures/14-newton.pdf)\n",
    "5. [Online - Lecture2](https://www.stat.cmu.edu/~ryantibs/convexopt/lectures/quasi-newton.pdf)\n",
    "6. [BFGS - Wiki](https://en.wikipedia.org/wiki/Broyden%E2%80%93Fletcher%E2%80%93Goldfarb%E2%80%93Shanno_algorithm)\n",
    "7. [Quasi-Newton - Wiki](https://en.wikipedia.org/wiki/Quasi-Newton_method)\n",
    "8. [Backtracking Line Search - Wiki](https://en.wikipedia.org/wiki/Backtracking_line_search)\n",
    "\n",
    "Despite this effort, I expect bugs/errors to be present. You are more than welcome to report them. Will be happy to fix them. This is not intended to be reusable library code. It is just for academic/learning purposes. The reason why this had to be bridged from so many sources is because none of the locations had a clear description of the algorithm to directly translate that into code. Hence, had to glean it from multiple sources.\n",
    "\n",
    "This notebook doesn't use Sci-kit learn's funciton but codes the Newton Raphson method. So, for those interested in the internal details of descending a Multinomial Regression's Negative Likelihood Function to find the final set of parameters check the code below"
   ]
  },
  {
   "cell_type": "code",
   "execution_count": 1,
   "metadata": {},
   "outputs": [],
   "source": [
    "# Importing the libraries\n",
    "import numpy as np\n",
    "import pandas as pd\n",
    "import matplotlib.pyplot as plt\n",
    "from sklearn import preprocessing\n",
    "%matplotlib inline "
   ]
  },
  {
   "cell_type": "code",
   "execution_count": 2,
   "metadata": {},
   "outputs": [],
   "source": [
    "train_df = pd.read_csv(\"./training.csv\")\n",
    "d_max = train_df.shape[1]\n",
    "\n",
    "x = np.array(train_df.iloc[:,1:d_max])\n",
    "y = np.array(train_df.iloc[:,0])\n",
    "\n",
    "# To adjust for the code below\n",
    "y = y -1"
   ]
  },
  {
   "cell_type": "markdown",
   "metadata": {},
   "source": [
    "#### 1. The softmax score function is defined below:\n",
    "The function calculate_mu computes the estimated probability that x belongs to class k"
   ]
  },
  {
   "cell_type": "code",
   "execution_count": 3,
   "metadata": {},
   "outputs": [],
   "source": [
    "# Multinomial logistic regression\n",
    "# theta_lcl - D X C matrix\n",
    "# x_lcl - N x D matrix\n",
    "# returns Mu - N x C Matrix\n",
    "# Where c = #Categories, D = #Features\n",
    "def calculate_mu(x_lcl, theta_lcl):\n",
    "    \n",
    "    # Calculate the score function\n",
    "    scores = np.matmul(x_lcl,theta_lcl)\n",
    "    \n",
    "    # Convert to a manageable range\n",
    "    min_l = np.min(scores)\n",
    "    max_l = np.max(scores)\n",
    "    o_range = max_l - min_l\n",
    "    n_range = 600\n",
    "    \n",
    "    scores = (scores - min_l) * n_range / o_range\n",
    "    \n",
    "    exps = np.exp(scores)\n",
    "    #exps = np.abs(logits)\n",
    "    exp_sums = np.sum(exps, axis=1, keepdims=True)\n",
    "    return exps / exp_sums"
   ]
  },
  {
   "cell_type": "code",
   "execution_count": 4,
   "metadata": {},
   "outputs": [],
   "source": [
    "# Returns a y_hot which is a N x C matrix\n",
    "def to_one_hot(y):\n",
    "    n_classes = y.max()+1\n",
    "    m = len(y)\n",
    "    Y_one_hot = np.zeros((m, n_classes))\n",
    "    Y_one_hot[np.arange(m), y] = 1\n",
    "    \n",
    "    return Y_one_hot"
   ]
  },
  {
   "cell_type": "code",
   "execution_count": 5,
   "metadata": {},
   "outputs": [],
   "source": [
    "y_train_one_hot = to_one_hot(y)"
   ]
  },
  {
   "cell_type": "markdown",
   "metadata": {},
   "source": [
    "#### 1.2. Writing the function that reports the accuracy of predictions"
   ]
  },
  {
   "cell_type": "code",
   "execution_count": 6,
   "metadata": {},
   "outputs": [],
   "source": [
    "def check_accuracy(the):\n",
    "    test_df = pd.read_csv(\"./testing.csv\")\n",
    "    d_max = test_df.shape[1]\n",
    "    x_t = np.array(test_df.iloc[:,1:d_max])\n",
    "    y_t = np.array(test_df.iloc[:,0])\n",
    "\n",
    "    # To adjust for the code below\n",
    "    y_t = y_t -1\n",
    "\n",
    "    x_t.shape[1]\n",
    "\n",
    "\n",
    "    m =  x_t.shape[0] # number of data points\n",
    "\n",
    "    # Add a bias to each of the rows (i.e. a constant)\n",
    "    x_t_b = np.c_[np.ones((m,1)),x_t]\n",
    "\n",
    "\n",
    "    logs = x_t_b.dot(the)\n",
    "    Y_proba = calculate_mu(x_t_b, the)\n",
    "    y_predict = np.argmax(Y_proba, axis=1)\n",
    "\n",
    "    accuracy_score = np.mean(y_predict == y_t)\n",
    "    return accuracy_score"
   ]
  },
  {
   "cell_type": "markdown",
   "metadata": {},
   "source": [
    "#### 2. Gradient Calculation\n",
    "\n",
    "g(W) = ∇f(w) = $\\sum_{i=1}^{N}(μ_i - y_i) ⊗ x_i$\n",
    "\n",
    "Where \n",
    "* w = $\\theta$\n",
    "* μ = prob that this point belongs to category (notations differ between textbooks)\n",
    "* n = m = i = data point (notations differ between textbooks)\n",
    "* $\\varphi$ = x \n",
    "* I = Identity matrix\n",
    "* y = the y_hot vector we defined above\n",
    "\n",
    "⊗ is [Kronecker Product](https://en.wikipedia.org/wiki/Kronecker_product)"
   ]
  },
  {
   "cell_type": "code",
   "execution_count": 7,
   "metadata": {},
   "outputs": [],
   "source": [
    "# Returns a CD x 1 vector \n",
    "# mu_lcl - N x C Matrix\n",
    "# y_lcl - N x C Matrix - y_hot matrix\n",
    "# x_lcl - N x D matrix\n",
    "# Where c = #Categories, D = #Features\n",
    "def gradient(mu_lcl, y_lcl, x_lcl):\n",
    "    # The N rows\n",
    "    N = x_lcl.shape[0]\n",
    "    # C Categories\n",
    "    C = mu_lcl.shape[1]\n",
    "    # D Dimensions\n",
    "    D = x_lcl.shape[1]\n",
    "    \n",
    "    g = np.zeros((C*D,1))\n",
    "    \n",
    "    for i in range(N):\n",
    "        diff = mu_lcl[i:i+1] - y_lcl[i:i+1]\n",
    "\n",
    "        # diff.T is a C x 1 vector and x[i:i+1].T is a D x 1 vector\n",
    "        # resultant cron multiplication is a CD x 1 vector\n",
    "        kron_result = np.kron(diff.T,x_lcl[i:i+1].T)\n",
    "        \n",
    "        g = g + kron_result\n",
    "        \n",
    "    return g   "
   ]
  },
  {
   "cell_type": "markdown",
   "metadata": {},
   "source": [
    "#### 3. Direct Hessian Computation\n",
    "Considered two text books and both had different notations. Hence summarizing the notations as follows:\n",
    "\n",
    "Books referred were:\n",
    "Pattern Recognition and Machine Learning - Bishop &\n",
    "\n",
    "Machine Learning - A Probabilistic Perspective - Murphy\n",
    "\n",
    "Hessian is given by \n",
    "$∇w_k∇w_j  E(w_1, . . . ,w_K)$ = $−\\sum_{n=1}^{N}$ $y_n^k$ $(I_k^j - y_n^j)$ $φ_nφ_n^T$\n",
    "\n",
    "##### Writing this in a condensed format this is will be \n",
    "\n",
    "H(W) = $∇^2 f(w) = \\sum_{i=1}^{N}(diag(μ_i) − μ_iμ_i^T) ⊗ (x_i x_i^T)$\n",
    "\n",
    "Where \n",
    "* w = $\\theta$\n",
    "* μ = prob that this point belongs to category (notations differ between textbooks)\n",
    "* n = m = i = data point (notations differ between textbooks)\n",
    "* $\\varphi$ = x \n",
    "* I = Identity matrix\n",
    "\n",
    "⊗ is Kronecker Product "
   ]
  },
  {
   "cell_type": "code",
   "execution_count": 8,
   "metadata": {},
   "outputs": [],
   "source": [
    "# Mu is a N x C Matrix\n",
    "# x is a N x D Matrix\n",
    "# Hessian is a CD x CD Matrix\n",
    "def hessian(mu, x):\n",
    "    # The N rows\n",
    "    N = x.shape[0]\n",
    "    \n",
    "    C = mu.shape[1]\n",
    "    D = x.shape[1]\n",
    "    \n",
    "    # size of hessian is C*D X C*D [Where c = #Categories, D = #Features]\n",
    "    h = np.zeros((C*D,C*D))\n",
    "    \n",
    "    # i is the ith data point\n",
    "    for i in range(N):\n",
    "        \n",
    "        # d_mu_i is a C x C Matrix\n",
    "        d_mu_i = np.diagflat(mu[i])\n",
    "\n",
    "        # mu_sq C x C Matrix\n",
    "        # Here for us the array is provided as a row vector and hence we do array.T * array.         \n",
    "        # whereas in the definition above it is vector * vector.T . Notice that difference\n",
    "        mu_sq = np.matmul(mu[i:i+1].T, mu[i:i+1])\n",
    "    \n",
    "        # xi_sq is a D x D Matrix\n",
    "        xi_sq = np.matmul(x[i:i+1].T, x[i:i+1])\n",
    "        \n",
    "        # Kron-result is a CD x CD Matrix\n",
    "        kron_result = np.kron((d_mu_i - mu_sq),xi_sq)\n",
    "        \n",
    "        # Summate across all data points\n",
    "        h = h + kron_result\n",
    "        \n",
    "    return h"
   ]
  },
  {
   "cell_type": "markdown",
   "metadata": {},
   "source": [
    "#### 4. Quasi-Newton (Metric) Methods - Hessian and Inverse Calculation\n",
    "\n",
    "<b>Reference: Machine Learning - A probabilistic perspective - Murphy</b>\n",
    "\n",
    "Sometimes H goes into singularities leading to no progress in the algorithm. And also H may be too expensive to compute. Quasi-Newton methods iteratively build up an approximation to the Hessian using information gleaned\n",
    "from the gradient vector at each step. The most common method is called BFGS (named after its inventors, Broyden, Fletcher, Goldfarb and Shanno), which updates the approximation to the Hessian $B_k ≈ H_k$ as follows:\n",
    "\n",
    "$B_{k+1} = B_k + y_ky_k^T/(y_k^T s_k) − (B_ks_k)(B_ks_k)^T/(s_k^T B_k s_k)$\n",
    "\n",
    "$s_k = θ_k − θ_{k−1}$\n",
    "\n",
    "$y_k = g_k − g_{k−1}$\n",
    "\n",
    "(Refer below for more details on why this notation is incorrect)\n",
    "\n",
    "This is a rank-two update to the matrix, and ensures that the matrix remains positive definite (under certain restrictions on the step size). We typically start with a diagonal approximation, $B_0 = I$. Thus BFGS can be thought of as a “diagonal plus low-rank” approximation to the Hessian.\n",
    "\n",
    "Alternatively, BFGS can iteratively update an approximation to the inverse Hessian, $C_k ≈ H_k^{−1}$, as follows:\n",
    "\n",
    "$C_{k+1} = (I − s_ky_k^T/(y_k^Ts_k))$ $C_k$ $(I − y_ks^T_k/(y^T_k s_k))$ + $s_ks^T_k/(y^T_k s_k)$\n",
    "\n",
    "<b>Note: Corrections</b>\n",
    "Text-book has a mistake. With the above notation we will not be able to start the algorithm. Wikipedia has a better mention of the algorithm. [BFGS - Algorithm](https://en.wikipedia.org/wiki/Broyden%E2%80%93Fletcher%E2%80%93Goldfarb%E2%80%93Shanno_algorithm) [Quasi-Newton Method](https://en.wikipedia.org/wiki/Quasi-Newton_method#Description_of_the_method)\n",
    "\n",
    "Both of these links mention:\n",
    "\n",
    "$s_k = θ_{k+1} − θ_k$\n",
    "\n",
    "$y_k = g_{k+1} − g_k$"
   ]
  },
  {
   "cell_type": "code",
   "execution_count": 9,
   "metadata": {},
   "outputs": [],
   "source": [
    "#Definitions:\n",
    "# yk is a CD x 1 vector. And yk_transpose is a 1 X CD vector\n",
    "# thk is a D x C vector and when we unravel the theta it should be thk.T.ravel() \n",
    "# because gradient is listed C1(D1, D2...) and C2 (D1,..) etc. and if we need to get the same order from theta \n",
    "# then we need to unravel the transpose of the gradient vectors. Finally sk is a CD x 1 matrix\n",
    "\n",
    "# Gradients is a CD x 1 vector \n",
    "# theta is a D x C vector\n",
    "# returns a CD x CD matrix\n",
    "def quasi_hessian(bk, gk, gk_1, thk, thk_1):\n",
    "    \n",
    "    yk = gk_1 - gk\n",
    "    \n",
    "    # ravel gives us a row vector. We will convert that to a column vector\n",
    "    sk = ((thk_1 - thk).T.reshape(1,cd_size)).T\n",
    "    \n",
    "    return bk + np.matmul(yk,yk.T)/np.matmul(yk.T,sk) - np.matmul(np.matmul(bk,sk),np.matmul(bk,sk).T) / np.matmul(np.matmul(sk.T,bk),sk)\n",
    "\n",
    "# returns a CD x CD matrix\n",
    "def quasi_hess_inv(ck, gk, gk_1, thk, thk_1):\n",
    "    \n",
    "    cd_size = gk.shape[0]\n",
    "    \n",
    "    idt = np.identity(gk.shape[0])\n",
    "    yk = gk_1 - gk\n",
    "    # ravel gives us a row vector. We will convert that to a column vector\n",
    "    # sk = ((thk_1 - thk).T.ravel()).T\n",
    "    sk = ((thk_1 - thk).T.reshape(1,cd_size)).T\n",
    "    \n",
    "    part0 = np.matmul(yk.T,sk)\n",
    "    part1 = idt - (np.matmul(sk,yk.T)/part0)\n",
    "    part2 = idt - (np.matmul(yk,sk.T)/part0)\n",
    "    part3 = np.matmul(sk, sk.T)/part0\n",
    "    \n",
    "    return np.matmul(np.matmul(part1,ck),part2) + part3"
   ]
  },
  {
   "cell_type": "markdown",
   "metadata": {},
   "source": [
    "####  5. Newton Raphson Method\n",
    "\n",
    "About the method and its working details"
   ]
  },
  {
   "cell_type": "markdown",
   "metadata": {},
   "source": [
    "From the textbook:\n",
    "\n",
    "Set $w_C$ = 0, to ensure identifiability, and define w = vec(W(:, 1 : C−1)) to be a D×(C−1) column vector. Therefore we set $\\theta_c$ to 0\n",
    "\n",
    "Newton’s method\n",
    "Algorithm 8.1: Newton’s method for minimizing a strictly convex function\n",
    "1. Initialize $θ_0$;\n",
    "2. for k = 1, 2, . . . until convergence do\n",
    "3. Evaluate $g_k = ∇f(θ_k)$;\n",
    "4. Evaluate $H_k = ∇^2f(θ_k)$;\n",
    "5. Solve $H_kd_k = −g_k$ for $d_k$;\n",
    "6. Use line search to find stepsize $η_k$ along $d_k$;\n",
    "7. $θ_(k+1)$ = $θ_k + η_kd_k$;"
   ]
  },
  {
   "cell_type": "markdown",
   "metadata": {},
   "source": [
    "#### 4.1. Method 1 - Implementation by Calculating Hessian and Inverse directly\n",
    "\n",
    "This hits singularity and stops and hence there is no learning. The reason the code doesn't throw singularity error is because of floating point calculations and very minute errors in the inverse calculation (but it hits a singularity. You can check this with a smaller dataset)"
   ]
  },
  {
   "cell_type": "code",
   "execution_count": 10,
   "metadata": {},
   "outputs": [
    {
     "name": "stdout",
     "output_type": "stream",
     "text": [
      "0.4\n"
     ]
    },
    {
     "data": {
      "image/png": "[encoded data removed]",
      "text/plain": [
       "<Figure size 432x288 with 1 Axes>"
      ]
     },
     "metadata": {
      "needs_background": "light"
     },
     "output_type": "display_data"
    }
   ],
   "source": [
    "alpha =  0.01 # Learning rate as identified by eta-k in the above definition\n",
    "\n",
    "n_iterations = 100\n",
    "m =  x.shape[0] # number of data points\n",
    "n = x.shape[1] # number of features\n",
    "epsilon = 100\n",
    "delta = 0.001\n",
    "accu = []\n",
    "\n",
    "# Add a bias to each of the rows (i.e. a constant)\n",
    "x_b = np.c_[np.ones((m,1)),x]\n",
    "\n",
    "# Take a random theta to begin the run\n",
    "np.random.seed(13)\n",
    "theta = np.random.randn(n + 1,y.max()+1)\n",
    "\n",
    "for i in range(n_iterations):\n",
    "\n",
    "    mu = calculate_mu(x_b,theta)\n",
    "\n",
    "    gradients = gradient(mu, y_train_one_hot, x_b)  \n",
    "    hess = hessian(mu,x_b)\n",
    "    \n",
    "    step = np.matmul(np.linalg.inv(hess),gradients)\n",
    "    \n",
    "    step = step / (np.max(step)/10)\n",
    "\n",
    "    # Step is a CD x 1 Matrix. It is [C1[D1,D2..,Dn], C2[D1,D2,...,Dn]...]. Reshape the CD X 1 matrix to D X C\n",
    "    # Hence the reshape will be C x D will make it to unravel the results as required\n",
    "    # And then we need to add this as a D x C matrix to theta and hence we transpose it\n",
    "    theta = theta + alpha * step.reshape(y.max()+1, n+1).T\n",
    "    \n",
    "    accu.append(check_accuracy(theta))\n",
    "\n",
    "plt.plot(range(n_iterations),accu)\n",
    "plt.title('Iterations vs Accuracy for Newton Raphson Descent - Direct Hessian Calculation')\n",
    "check_accuracy(theta)\n",
    "    \n",
    "print(check_accuracy(theta))"
   ]
  },
  {
   "attachments": {},
   "cell_type": "markdown",
   "metadata": {},
   "source": [
    "#### 4.2. Choose the step with Backtracking line search\n",
    "Alpha value keeps changing as we initiate theta with some random values initally and they change in every run.\n",
    "\n",
    "[About the method - Wikipedia](https://en.wikipedia.org/wiki/Backtracking_line_search)\n",
    "\n",
    "<img src=\"./backtrackinglinesearch.png\" height=\"600\" width=\"700\"/>\n",
    "\n",
    "\n",
    "f(θ) = J(θ) = Cross Entropy Cost Function. It is given by \n",
    "\n",
    "J(θ) = −1/m $\\sum_{i=1}^{m}$ $\\sum_{k=1}^{K}$ $y_k^{(i)}$ log ($\\hat{p}_k^{(i)}$)\n",
    "\n",
    "Where \n",
    "* m is the number of data points\n",
    "* K is the number of categories\n",
    "* $y_k^{(i)}$ is equal to 1 if the target class for the ith instance is k; otherwise it is equal to 0\n",
    "\n",
    "f(θ) = -L(θ) where L(θ) is the Log-likelihood. So, f(θ) is nothing but the negative log-likelihood. It is not difficult to see why the likelihood is the given sum. We maximize the log-likelihood i.e. L(θ) and hence we will try to minimize f(θ). L(θ) proceeds from the assumption that each of the labels is independent and from there computing the probablity is pretty straight forward. You can refer Machine Learning - A Probabilistic Perspective - Murphy for more details.\n",
    "\n",
    "In this case I ignore the 1/m factor and compute the J(θ). "
   ]
  },
  {
   "cell_type": "code",
   "execution_count": 11,
   "metadata": {},
   "outputs": [],
   "source": [
    "# f(theta) is here the Cross entropy cost function which is implemented here. \n",
    "def cross_entropy(x_data, y_hot, theta_val):\n",
    "    \n",
    "    # M is the number of data points\n",
    "    m = x_data.shape[0]\n",
    "    c = y_hot.shape[1]\n",
    "    \n",
    "    # This is a M X C matrix\n",
    "    log_mu = np.log(calculate_mu(x_data, theta_val))\n",
    "    \n",
    "    # y_hot is also a M X C matrix. If we unravel both these matrices then we have two MC X 1 matrices\n",
    "    # whose multiplication will give us the required sum\n",
    "    \n",
    "    nc_y = y_hot.reshape(m*c,1)\n",
    "    nc_logmu = log_mu.reshape(m*c,1)\n",
    "    \n",
    "    # This works because each of the reshapes will place the first 'C' values together and \n",
    "    # we are just doing a sum-product here which is the log-likelihood computation above.\n",
    "    \n",
    "    f_val = nc_y.T.dot(nc_logmu)\n",
    "    \n",
    "    return (- f_val)"
   ]
  },
  {
   "cell_type": "code",
   "execution_count": 12,
   "metadata": {},
   "outputs": [],
   "source": [
    "# This is the backtracking line search function\n",
    "def backtrack_linesearch(x_lcl, theta_lcl, y_lcl):\n",
    "    n_iterations = 10\n",
    "    \n",
    "    n_cat = y_lcl.shape[1]\n",
    "    n_dim = x_lcl.shape[1]\n",
    "\n",
    "    alpha = 1\n",
    "    P = 0.95\n",
    "    C = 0.20\n",
    "\n",
    "    t = C * alpha\n",
    "\n",
    "    mu_lcl = calculate_mu(x_lcl, theta_lcl)\n",
    "    #error = y_lcl - h_of_xtheta\n",
    "    \n",
    "    # act_g is the gradient in the actual format\n",
    "    act_g = gradient(mu_lcl, y_lcl, x_lcl)\n",
    "    \n",
    "    # gradients is gradient reshaped to the theta format\n",
    "    gradients = act_g.reshape(n_cat, n_dim).T\n",
    "    \n",
    "    # pk is a unit vector in the direction of the gradient. Because we want to \n",
    "    # move in the direction of the gradient\n",
    "    unit_gradient = preprocessing.normalize(act_g, norm='l2')\n",
    "    ug_thetashape = unit_gradient.reshape(n_cat, n_dim).T\n",
    "\n",
    "    grad_mul_direction = np.matmul(unit_gradient.T,act_g)\n",
    "\n",
    "    currF = cross_entropy(x_lcl, y_lcl, theta_lcl + alpha * gradients)\n",
    "    curr_iter = 0\n",
    "\n",
    "    while (currF >= cross_entropy(x_lcl, y_lcl, theta_lcl) + t * grad_mul_direction) and (curr_iter <= n_iterations):\n",
    "\n",
    "        alpha = P * alpha\n",
    "\n",
    "        currF = cross_entropy(x_lcl, y_lcl, theta_lcl + alpha * ug_thetashape)\n",
    "        curr_iter = curr_iter + 1\n",
    "    \n",
    "    return alpha"
   ]
  },
  {
   "cell_type": "markdown",
   "metadata": {},
   "source": [
    "#### 4.3. Method 2 - Calculating using Quasi-Newton methods\n",
    "\n",
    "Algorithm is stated in detail here on Wikipedia (and the textbook as well): \n",
    "\n",
    "[BFGS - Algorithm](https://en.wikipedia.org/wiki/Broyden%E2%80%93Fletcher%E2%80%93Goldfarb%E2%80%93Shanno_algorithm) [Quasi-Newton Method](https://en.wikipedia.org/wiki/Quasi-Newton_method#Description_of_the_method)"
   ]
  },
  {
   "cell_type": "code",
   "execution_count": 13,
   "metadata": {},
   "outputs": [
    {
     "name": "stdout",
     "output_type": "stream",
     "text": [
      "The alpha values: [1, 1, 1, 1, 0.95, 1, 0.95, 0.95, 0.95, 1, 1, 1, 1, 1, 1, 0.95, 1, 1, 1, 0.95, 1, 1, 1, 1, 1, 1, 1, 1, 1, 1, 1, 1, 1, 1, 1, 1, 1, 1, 1, 1, 1, 1, 1, 1, 1, 1, 1, 1, 1, 1]\n"
     ]
    },
    {
     "data": {
      "text/plain": [
       "Text(0.5, 1.0, 'Iterations vs Accuracy for Newton Raphson Descent - Quasi Newton Methods')"
      ]
     },
     "execution_count": 13,
     "metadata": {},
     "output_type": "execute_result"
    },
    {
     "data": {
      "image/png": "[encoded data removed]",
      "text/plain": [
       "<Figure size 432x288 with 1 Axes>"
      ]
     },
     "metadata": {
      "needs_background": "light"
     },
     "output_type": "display_data"
    }
   ],
   "source": [
    "alpha =  0.1 # Learning rate as identified by eta-k in the above definition\n",
    "\n",
    "n_iterations = 50\n",
    "m =  x.shape[0] # number of data points\n",
    "n = x.shape[1] # number of features\n",
    "epsilon = 100\n",
    "delta = 0.001\n",
    "accu = []\n",
    "\n",
    "# Add a bias to each of the rows (i.e. a constant)\n",
    "x_b = np.c_[np.ones((m,1)),x]\n",
    "\n",
    "# Take a random theta to begin the run\n",
    "np.random.seed(13)\n",
    "thetak = np.random.randn(n + 1,y.max()+1)\n",
    "ck = np.identity((n+1)*(y.max()+1))\n",
    "\n",
    "# Category to be made zero - Let us discard this for now.\n",
    "#zero_cat = y.max()\n",
    "#thetak[:,zero_cat] = 0\n",
    "\n",
    "mu = calculate_mu(x_b,thetak)\n",
    "gradk = gradient(mu, y_train_one_hot, x_b)\n",
    "step = np.matmul(ck,gradk)\n",
    "\n",
    "# Step is a CD x 1 Matrix. It is [C1[D1,D2..,Dn], C2[D1,D2,...,Dn]...]. Reshape the CD X 1 matrix to D X C\n",
    "# Hence the reshape will be C x D will make it to unravel the results as required\n",
    "# And then we need to add this as a D x C matrix to theta and hence we transpose it\n",
    "thetakp1 = thetak - alpha * step.reshape(y.max()+1, n+1).T\n",
    "accu = []\n",
    "alp = []\n",
    "\n",
    "for i in range(n_iterations):\n",
    "\n",
    "    mu = calculate_mu(x_b,thetakp1)\n",
    "\n",
    "    gradkp1 = gradient(mu, y_train_one_hot, x_b)  \n",
    "    ckp1 = quasi_hess_inv(ck, gradk, gradkp1, thetak, thetakp1)\n",
    "    \n",
    "    step = np.matmul(ckp1, gradkp1)\n",
    "    \n",
    "    thetak = thetakp1\n",
    "    \n",
    "    # Get the length to move using backtracking line search\n",
    "    alpha = backtrack_linesearch(x_b, thetakp1, y_train_one_hot)\n",
    "    \n",
    "    alp.append(alpha)\n",
    "    \n",
    "    thetakp1 = thetakp1 - alpha * step.reshape(y.max()+1, n+1).T\n",
    "    \n",
    "    gradk = gradkp1\n",
    "    ck = ckp1\n",
    "    accu.append(check_accuracy(thetakp1))\n",
    "\n",
    "print(\"The alpha values:\", alp)\n",
    "plt.plot(range(n_iterations),accu)\n",
    "plt.title('Iterations vs Accuracy for Newton Raphson Descent - Quasi Newton Methods')"
   ]
  },
  {
   "cell_type": "markdown",
   "metadata": {},
   "source": [
    "#### 5. Final Accuracy"
   ]
  },
  {
   "cell_type": "code",
   "execution_count": 14,
   "metadata": {},
   "outputs": [
    {
     "name": "stdout",
     "output_type": "stream",
     "text": [
      "83.38 percent\n"
     ]
    }
   ],
   "source": [
    "print(\"%.2f percent\"%(check_accuracy(thetakp1)*100))"
   ]
  },
  {
   "attachments": {},
   "cell_type": "markdown",
   "metadata": {},
   "source": [
    "#### 6. Comparison with Plain Vanilla Gradient Descent\n",
    "\n",
    "You can refer to my other notebook that deals with gradient descent for full details on Gradient descent implementation for Softmax Regression. I will just mention the comparisons here.\n",
    "\n",
    "#### 6.1. Batch Gradient Descent\n",
    "* Final accuracy: 81.23%\n",
    "* Alpha considered: 0.5\n",
    "* Convergence achieved after: 59 iterations\n",
    "\n",
    "#### 6.2. Stochastic Gradient Descent (Using just one data point)\n",
    "* Final accuracy: 80.9%\n",
    "* Nature: Keep fluctuating\n",
    "* Convergence achieved after: 900 iterations\n",
    "* But even after that it is not stable. Keeps moving around\n",
    "\n",
    "#### 6.3. Mini-Batch Gradient Descent\n",
    "<b>Size: 16</b>\n",
    "* Final accuracy: 79.69%\n",
    "* Convergence achieved after: 177 iterations\n",
    "* Fluctuations are lower. Reaches some stability after 177 iterations\n",
    "\n",
    "<b>Size: 32</b>\n",
    "* Final accuracy: 79.38%\n",
    "* Convergence achieved after: 125 iterations\n",
    "* Fluctuations are lower. Reaches some stability after 125 iterations\n",
    "\n",
    "#### 6.4. Newton Raphson Method (Pseudo Newton Methods & With Backtracking Linesearch)\n",
    "* Final accuracy: 83.38%\n",
    "* Convergence achieved after: 8 iterations\n",
    "* Almost no major fluctuation in accuracy even on large number of runs\n",
    "\n",
    "#### 6.5. Summary \n",
    "The quickness with which Newton Raphson converges is simply awesome. But computationally and memory usage wise it is horrible. Just look at the order of storage and computations we used above and it should be clear. There is a better method called L-BFGS which uses lesser memory than this Quasi-method uses now (But I am am not pursuing it further in this notebook)\n",
    "\n",
    "<img src=\"./run_comparisons.png\" />"
   ]
  }
 ],
 "metadata": {
  "kernelspec": {
   "display_name": "Python 3",
   "language": "python",
   "name": "python3"
  },
  "language_info": {
   "codemirror_mode": {
    "name": "ipython",
    "version": 3
   },
   "file_extension": ".py",
   "mimetype": "text/x-python",
   "name": "python",
   "nbconvert_exporter": "python",
   "pygments_lexer": "ipython3",
   "version": "3.6.8"
  }
 },
 "nbformat": 4,
 "nbformat_minor": 2
}
